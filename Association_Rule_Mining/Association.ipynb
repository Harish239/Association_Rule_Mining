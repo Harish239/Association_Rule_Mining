{
 "cells": [
  {
   "cell_type": "markdown",
   "metadata": {},
   "source": [
    "---\n",
    "## Part 2: Association Analysis\n",
    "---\n",
    "### Packages used:\n",
    "\n",
    "`import itertools` - To iterate through each frequent itemsets to generate candoate rules.\n",
    "\n",
    "`import pandas as pd` - To store and retrieve RULES | HEAD | BODY for obtaining template results. \n",
    "\n",
    "---"
   ]
  },
  {
   "cell_type": "code",
   "execution_count": 1,
   "metadata": {},
   "outputs": [],
   "source": [
    "import itertools\n",
    "import pandas as pd"
   ]
  },
  {
   "cell_type": "markdown",
   "metadata": {},
   "source": [
    "---\n",
    "The function `freq_items_generation(candidate_items, tr_list, support, length)` generates a list of frequent itemsets.\n",
    "\n",
    "#### Inputs:\n",
    "\n",
    "1. `candidate_items` - A set of candidate frequent itemsets for generating frequent itemsets for the corresponding threshold.\n",
    "2. `tr_list` - Transaction list or list of all rows from the original data to find the support count for candidate frequent itemset.\n",
    "3. `support` - Minimum Support Threshold in percentage.\n",
    "4. `length` - Length of the candidate frequent itemsets\n",
    "\n",
    "#### Output:\n",
    "\n",
    "1. `list(frequent_dict.keys())` -  A list of frequent itemsets.\n",
    "---"
   ]
  },
  {
   "cell_type": "code",
   "execution_count": 2,
   "metadata": {},
   "outputs": [],
   "source": [
    "def freq_items_generation(candidate_items, tr_list, support, length):    \n",
    "    frequent_dict = dict()\n",
    "    for candidate in candidate_items:\n",
    "        if length != 1:\n",
    "            candidate_set = set(candidate.split(','))\n",
    "        else:\n",
    "            candidate_set = {candidate}\n",
    "        count = 0\n",
    "        for row in tr_list:\n",
    "            if(candidate_set.issubset(row)):\n",
    "                count+=1\n",
    "        if (count/len(tr_list))*100 >= support:\n",
    "            frequent_dict[candidate] = count\n",
    "    return list(frequent_dict.keys())"
   ]
  },
  {
   "cell_type": "markdown",
   "metadata": {},
   "source": [
    "---\n",
    "The function `candidate_set_generation(items, length)` generates a set of candidate frequent itemsets.\n",
    "\n",
    "#### Inputs:\n",
    "\n",
    "1. `items` - A set of frequent itemsets for generating next length candidate frequent itemsets.\n",
    "2. `length` - Length of the itemsets.\n",
    "\n",
    "#### Output:\n",
    "\n",
    "1. candidate_items -  A set of candidate frequent itemsets.\n",
    "---"
   ]
  },
  {
   "cell_type": "code",
   "execution_count": 3,
   "metadata": {},
   "outputs": [],
   "source": [
    "def candidate_set_generation(items, length):\n",
    "    candidate_items = set()\n",
    "    for a in range(len(items)-1):\n",
    "        items_a = set(items[a].split(','))\n",
    "        for b in range(a+1, len(items)):\n",
    "            items_b = set(items[b].split(','))\n",
    "            if(len(items_a | items_b)==length):\n",
    "                temp = sorted(items_a | items_b)\n",
    "                temp_list = ','.join(temp)\n",
    "                candidate_items.add(temp_list)\n",
    "    return candidate_items"
   ]
  },
  {
   "cell_type": "markdown",
   "metadata": {},
   "source": [
    "---\n",
    "The function `open_file(filename)` generates a list of candidate frequent itemsets of length 1 and a transaction list or list of all rows from the original data to find the support count for candidate frequent itemset.\n",
    "\n",
    "#### Inputs:\n",
    "\n",
    "1. `filename` - Name of the original gene data file.\n",
    "\n",
    "#### Output:\n",
    "\n",
    "1. candidate_items_l1 -  A list of candidate frequent itemsets of length 1.\n",
    "2. tr_list - Transaction list or list of all rows from the original data to find the support count for candidate frequent itemset.\n",
    "---"
   ]
  },
  {
   "cell_type": "code",
   "execution_count": 4,
   "metadata": {},
   "outputs": [],
   "source": [
    "def open_file(filename):\n",
    "    file = open(filename, \"r\")\n",
    "    candidate_items_l1 = set()\n",
    "    tr_list = []\n",
    "    for line in file:\n",
    "        row = line.strip(\"\\n\").split(\"\\t\")\n",
    "        for i in range(len(row)):\n",
    "            if i != len(row)-1:\n",
    "                row[i] = \"G\"+str(i+1)+\"_\"+row[i].upper()\n",
    "            candidate_items_l1.add(row[i])\n",
    "        tr_list.append(set(row))\n",
    "    return(candidate_items_l1, tr_list)"
   ]
  },
  {
   "cell_type": "markdown",
   "metadata": {},
   "source": [
    "---\n",
    "The function ` apriori_imp_template(filename, support)` generates the template for part 1 of Apriori Algorithm in generating the frequent itemsets for the given support.\n",
    "\n",
    "#### Inputs:\n",
    "\n",
    "1. `filename` - Name of the original gene data file.\n",
    "2. `support` - Minimum Support Threshold in percentage.\n",
    "\n",
    "#### Output:\n",
    "\n",
    "1. The template for part 1 of Apriori Algorithm in generating the frequent itemsets for the given support.\n",
    "---"
   ]
  },
  {
   "cell_type": "code",
   "execution_count": 5,
   "metadata": {},
   "outputs": [],
   "source": [
    "def apriori_imp_template(filename, support): \n",
    "    candidate_items_l1, tr_list = open_file(filename)\n",
    "    length = 1\n",
    "    candidate_items = candidate_items_l1\n",
    "    freq_items = freq_items_generation(candidate_items, tr_list, support, length)\n",
    "    ans = [len(freq_items)]\n",
    "    while True:\n",
    "        length += 1\n",
    "        candidate_items = candidate_set_generation(freq_items, length)\n",
    "        freq_items = freq_items_generation(candidate_items, tr_list, support, length)\n",
    "        if len(freq_items) == 0:\n",
    "            break\n",
    "        else:\n",
    "            ans.append(len(freq_items))\n",
    "    print(\"Support is set to be \"+ str(support)+\"%\")\n",
    "    for i in range(len(ans)):\n",
    "        print(\"number of length-\"+str(i+1)+ \" frequent itemsets: \"+str(ans[i]))\n",
    "    print(\"number of all lengths frequent itemsets: \"+str(sum(ans))+\"\\n\\n\") "
   ]
  },
  {
   "cell_type": "code",
   "execution_count": 6,
   "metadata": {},
   "outputs": [
    {
     "name": "stdout",
     "output_type": "stream",
     "text": [
      "Support is set to be 30%\n",
      "number of length-1 frequent itemsets: 196\n",
      "number of length-2 frequent itemsets: 5340\n",
      "number of length-3 frequent itemsets: 5287\n",
      "number of length-4 frequent itemsets: 1518\n",
      "number of length-5 frequent itemsets: 438\n",
      "number of length-6 frequent itemsets: 88\n",
      "number of length-7 frequent itemsets: 11\n",
      "number of length-8 frequent itemsets: 1\n",
      "number of all lengths frequent itemsets: 12879\n",
      "\n",
      "\n",
      "Support is set to be 40%\n",
      "number of length-1 frequent itemsets: 167\n",
      "number of length-2 frequent itemsets: 753\n",
      "number of length-3 frequent itemsets: 149\n",
      "number of length-4 frequent itemsets: 7\n",
      "number of length-5 frequent itemsets: 1\n",
      "number of all lengths frequent itemsets: 1077\n",
      "\n",
      "\n",
      "Support is set to be 50%\n",
      "number of length-1 frequent itemsets: 109\n",
      "number of length-2 frequent itemsets: 63\n",
      "number of length-3 frequent itemsets: 2\n",
      "number of all lengths frequent itemsets: 174\n",
      "\n",
      "\n",
      "Support is set to be 60%\n",
      "number of length-1 frequent itemsets: 34\n",
      "number of length-2 frequent itemsets: 2\n",
      "number of all lengths frequent itemsets: 36\n",
      "\n",
      "\n",
      "Support is set to be 70%\n",
      "number of length-1 frequent itemsets: 7\n",
      "number of all lengths frequent itemsets: 7\n",
      "\n",
      "\n"
     ]
    }
   ],
   "source": [
    "support_values = [30, 40, 50, 60, 70]\n",
    "for val in support_values:\n",
    "    apriori_imp_template(\"association-rule-test-data.txt\", val)"
   ]
  },
  {
   "cell_type": "markdown",
   "metadata": {},
   "source": [
    "---\n",
    "The function `apriori_imp_result(filename, support)` generates the result for part 1 of Apriori Algorithm in generating the frequent itemsets for the given support.\n",
    "\n",
    "#### Inputs:\n",
    "\n",
    "1. `filename` - Name of the original gene data file.\n",
    "2. `support` - Minimum Support Threshold in percentage.\n",
    "\n",
    "#### Output:\n",
    "\n",
    "1. result - A set of frequent itemsets for the given support.\n",
    "2. tr_list - Transaction list or list of all rows from the original data to find the support count for candidate frequent itemset.\n",
    "---"
   ]
  },
  {
   "cell_type": "code",
   "execution_count": 7,
   "metadata": {},
   "outputs": [],
   "source": [
    "def apriori_imp_result(filename, support): \n",
    "    candidate_items_l1, tr_list = open_file(filename)\n",
    "    length = 1\n",
    "    candidate_items = candidate_items_l1\n",
    "    freq_items = freq_items_generation(candidate_items, tr_list, support, length)\n",
    "    result = set(freq_items)\n",
    "    while True:\n",
    "        length += 1\n",
    "        candidate_items = candidate_set_generation(freq_items, length)\n",
    "        freq_items = freq_items_generation(candidate_items, tr_list, support, length)\n",
    "        if len(freq_items) == 0:\n",
    "            break\n",
    "        else:\n",
    "            result = result | set(freq_items)\n",
    "    return result, tr_list"
   ]
  },
  {
   "cell_type": "markdown",
   "metadata": {},
   "source": [
    "---\n",
    "The function `freq_count(freq_itemset, tr_list)` generates the count for the given itemset in the transaction database. \n",
    "\n",
    "#### Inputs:\n",
    "\n",
    "1. `freq_itemset` - A frequent itemset for the given support threshold.\n",
    "2. `tr_list` - Transaction list or list of all rows from the original data to find the support count for candidate frequent itemset.\n",
    "\n",
    "#### Output:\n",
    "\n",
    "1. count = The count for the given frequent itemset in the tr_list. \n",
    "---"
   ]
  },
  {
   "cell_type": "code",
   "execution_count": 8,
   "metadata": {},
   "outputs": [],
   "source": [
    "def freq_count(freq_itemset, tr_list):\n",
    "    freq_itemset = set(freq_itemset)\n",
    "    count = 0\n",
    "    for row in tr_list:\n",
    "        if(freq_itemset.issubset(row)):\n",
    "            count+=1\n",
    "    return count"
   ]
  },
  {
   "cell_type": "markdown",
   "metadata": {},
   "source": [
    "---\n",
    "The function `association_rules(filename, support, confidence)` performs the association rule mining principle and generates the rules for the given minimum support and confidence threshold.\n",
    "\n",
    "#### Inputs:\n",
    "\n",
    "1. `filename` - Name of the original gene data file.\n",
    "2. `support` - Minimum Support Threshold in percentage.\n",
    "3. `confidence` - Minimum Confidence Threshold in percentage.\n",
    "\n",
    "#### Output:\n",
    "\n",
    "1. rules_df = A dataframe whose columns are \"RULE_SET\", \"RULE\", \"HEAD\", \"BODY\", \"Confidence\".\n",
    "---"
   ]
  },
  {
   "cell_type": "code",
   "execution_count": 9,
   "metadata": {},
   "outputs": [],
   "source": [
    "def association_rules(filename, support, confidence):\n",
    "    import itertools\n",
    "    import pandas as pd\n",
    "    rules = set()\n",
    "    rules_list = []\n",
    "    result, tr_list = apriori_imp_result(filename, support)\n",
    "    result = list(result)\n",
    "    for i in range(len(result)):\n",
    "        result[i] = result[i].split(\",\")\n",
    "    result = list(sorted(result, key = len, reverse=True))\n",
    "    for freq_itemset in result:\n",
    "        if len(freq_itemset) != 1:\n",
    "            rule_cnt = freq_count(freq_itemset, tr_list)\n",
    "            for i in range(len(freq_itemset) - 1 , 0, -1):\n",
    "                head_list = list(itertools.combinations(freq_itemset, i))\n",
    "                for head in head_list:\n",
    "                    head_cnt = freq_count(head, tr_list)\n",
    "                    rule_confidence = round((rule_cnt/head_cnt)*100, 2)################\n",
    "                    if rule_confidence >= confidence:\n",
    "                        freq_itemset = set(freq_itemset)\n",
    "                        head = set(head)\n",
    "                        body = head ^ freq_itemset\n",
    "                        rule_set = set(head|body)\n",
    "                        rule = \",\".join(head) + \" \" + \"->\" + \" \" + \",\".join(body)\n",
    "                        if rule not in rules:\n",
    "                            rules.add(rule)\n",
    "                            rules_list.append([rule, rule_set, head, body, rule_confidence])\n",
    "    rules_df = pd.DataFrame(rules_list, columns= [\"RULE_SET\", \"RULE\", \"HEAD\", \"BODY\", \"Confidence\"])\n",
    "    return rules_df"
   ]
  },
  {
   "cell_type": "markdown",
   "metadata": {},
   "source": [
    "---\n",
    "## Generating Association Rules with a minimum Support Threshold of 50% and Confidence Threshold of 70%.\n",
    "---"
   ]
  },
  {
   "cell_type": "code",
   "execution_count": 10,
   "metadata": {},
   "outputs": [
    {
     "data": {
      "text/html": [
       "<div>\n",
       "<style scoped>\n",
       "    .dataframe tbody tr th:only-of-type {\n",
       "        vertical-align: middle;\n",
       "    }\n",
       "\n",
       "    .dataframe tbody tr th {\n",
       "        vertical-align: top;\n",
       "    }\n",
       "\n",
       "    .dataframe thead th {\n",
       "        text-align: right;\n",
       "    }\n",
       "</style>\n",
       "<table border=\"1\" class=\"dataframe\">\n",
       "  <thead>\n",
       "    <tr style=\"text-align: right;\">\n",
       "      <th></th>\n",
       "      <th>RULE_SET</th>\n",
       "      <th>RULE</th>\n",
       "      <th>HEAD</th>\n",
       "      <th>BODY</th>\n",
       "      <th>Confidence</th>\n",
       "    </tr>\n",
       "  </thead>\n",
       "  <tbody>\n",
       "    <tr>\n",
       "      <th>0</th>\n",
       "      <td>G59_UP -&gt; G96_DOWN</td>\n",
       "      <td>{G59_UP, G96_DOWN}</td>\n",
       "      <td>{G59_UP}</td>\n",
       "      <td>{G96_DOWN}</td>\n",
       "      <td>80.26</td>\n",
       "    </tr>\n",
       "    <tr>\n",
       "      <th>1</th>\n",
       "      <td>G96_DOWN -&gt; G59_UP</td>\n",
       "      <td>{G59_UP, G96_DOWN}</td>\n",
       "      <td>{G96_DOWN}</td>\n",
       "      <td>{G59_UP}</td>\n",
       "      <td>85.92</td>\n",
       "    </tr>\n",
       "    <tr>\n",
       "      <th>2</th>\n",
       "      <td>G59_UP -&gt; G72_UP</td>\n",
       "      <td>{G72_UP, G59_UP}</td>\n",
       "      <td>{G59_UP}</td>\n",
       "      <td>{G72_UP}</td>\n",
       "      <td>81.58</td>\n",
       "    </tr>\n",
       "    <tr>\n",
       "      <th>3</th>\n",
       "      <td>G72_UP -&gt; G59_UP</td>\n",
       "      <td>{G72_UP, G59_UP}</td>\n",
       "      <td>{G72_UP}</td>\n",
       "      <td>{G59_UP}</td>\n",
       "      <td>83.78</td>\n",
       "    </tr>\n",
       "  </tbody>\n",
       "</table>\n",
       "</div>"
      ],
      "text/plain": [
       "             RULE_SET                RULE        HEAD        BODY  Confidence\n",
       "0  G59_UP -> G96_DOWN  {G59_UP, G96_DOWN}    {G59_UP}  {G96_DOWN}       80.26\n",
       "1  G96_DOWN -> G59_UP  {G59_UP, G96_DOWN}  {G96_DOWN}    {G59_UP}       85.92\n",
       "2    G59_UP -> G72_UP    {G72_UP, G59_UP}    {G59_UP}    {G72_UP}       81.58\n",
       "3    G72_UP -> G59_UP    {G72_UP, G59_UP}    {G72_UP}    {G59_UP}       83.78"
      ]
     },
     "execution_count": 10,
     "metadata": {},
     "output_type": "execute_result"
    }
   ],
   "source": [
    "rules = association_rules(\"association-rule-test-data.txt\", 60, 65)\n",
    "rules"
   ]
  },
  {
   "cell_type": "markdown",
   "metadata": {},
   "source": [
    "---\n",
    "The function `asso_rule_template1(a, b, c)` generates the results for template 1 for the given query.\n",
    "\n",
    "#### Inputs:\n",
    "\n",
    "1. `a` - \"RULE\" | \"HEAD\" | \"BODY\"\n",
    "2. `b` - \"ANY\" | \"NONE\" | 1\n",
    "3. `c` - [\"Gene\", ...]\n",
    "\n",
    "#### Output:\n",
    "\n",
    "1. result - A list of rules for the given query.\n",
    "2. len(result) - Total number of rules generated for the given query.\n",
    "---"
   ]
  },
  {
   "cell_type": "code",
   "execution_count": 11,
   "metadata": {},
   "outputs": [],
   "source": [
    "def asso_rule_template1(a, b, c):\n",
    "    c = set(\",\".join(c).upper().split(','))\n",
    "    result = []\n",
    "    for i in range(len(rules)):\n",
    "        if b == 'ANY' and len(c & rules.iloc[i][a]) > 0:\n",
    "            result.append(rules.iloc[i][\"RULE_SET\"])\n",
    "        elif b == 'NONE' and len(c & rules.iloc[i][a]) == 0:\n",
    "            result.append(rules.iloc[i][\"RULE_SET\"])\n",
    "        elif b == 1 and len(c & rules.iloc[i][a]) == 1:\n",
    "            result.append(rules.iloc[i][\"RULE_SET\"])\n",
    "    return result, len(result)"
   ]
  },
  {
   "cell_type": "code",
   "execution_count": 12,
   "metadata": {},
   "outputs": [
    {
     "name": "stdout",
     "output_type": "stream",
     "text": [
      "The total number of rules generated for the template 1 query 'RULE, ANY, ['G59_UP']': 4\n",
      "The total number of rules generated for the template 1 query 'RULE, NONE, ['G59_UP']': 0\n",
      "The total number of rules generated for the template 1 query 'RULE, 1, ['G59_UP', 'G10_Down']': 4\n",
      "The total number of rules generated for the template 1 query 'HEAD, ANY, ['G59_UP']': 2\n",
      "The total number of rules generated for the template 1 query 'HEAD, NONE, ['G59_UP']': 2\n",
      "The total number of rules generated for the template 1 query 'HEAD, 1, ['G59_UP', 'G10_Down']': 2\n",
      "The total number of rules generated for the template 1 query 'BODY, ANY, ['G59_UP']': 2\n",
      "The total number of rules generated for the template 1 query 'BODY, NONE, ['G59_UP']': 2\n",
      "The total number of rules generated for the template 1 query 'BODY, 1, ['G59_UP', 'G10_Down']': 2\n"
     ]
    }
   ],
   "source": [
    "template1_query = [[\"RULE\", \"ANY\", ['G59_UP']], [\"RULE\", \"NONE\", ['G59_UP']], [\"RULE\", 1, ['G59_UP', 'G10_Down']], [\"HEAD\", \"ANY\", ['G59_UP']], [\"HEAD\", \"NONE\", ['G59_UP']], [\"HEAD\", 1, ['G59_UP', 'G10_Down']], [\"BODY\", \"ANY\", ['G59_UP']], [\"BODY\", \"NONE\", ['G59_UP']], [\"BODY\", 1, ['G59_UP', 'G10_Down']]]\n",
    "for val in template1_query:\n",
    "    result, count = asso_rule_template1(val[0], val[1], val[2])\n",
    "    print(\"The total number of rules generated for the template 1 query \"+\"'\"+val[0]+\",\"+\" \"+str(val[1])+\",\"+\" \"+str(val[2])+\"'\"+\": \"+ str(count))"
   ]
  },
  {
   "cell_type": "markdown",
   "metadata": {},
   "source": [
    "\n",
    "---\n",
    "The function `asso_rule_template2(a, b)` generates the results for template 2 for the given query.\n",
    "\n",
    "#### Inputs:\n",
    "\n",
    "1. `a` - \"RULE\" | \"HEAD\" | \"BODY\"\n",
    "2. `b` - integer (length)\n",
    "\n",
    "#### Output:\n",
    "\n",
    "1. result - A list of rules for the given query.\n",
    "2. count - Total number of rules generated for the given query.\n",
    "---"
   ]
  },
  {
   "cell_type": "code",
   "execution_count": 13,
   "metadata": {},
   "outputs": [],
   "source": [
    "def asso_rule_template2(a, b):\n",
    "    result = []\n",
    "    count = 0\n",
    "    for i in range(len(rules)):\n",
    "        if len(rules.iloc[i][a]) >= b:\n",
    "            result.append(rules.iloc[i][\"RULE_SET\"])\n",
    "            count += 1\n",
    "    return result, count"
   ]
  },
  {
   "cell_type": "code",
   "execution_count": 14,
   "metadata": {},
   "outputs": [
    {
     "name": "stdout",
     "output_type": "stream",
     "text": [
      "The total number of rules generated for the template 2 query 'RULE, 3': 0\n",
      "The total number of rules generated for the template 2 query 'HEAD, 2': 0\n",
      "The total number of rules generated for the template 2 query 'BODY, 1': 4\n"
     ]
    }
   ],
   "source": [
    "template2_query = [[\"RULE\", 3], [\"HEAD\", 2], [\"BODY\", 1]]\n",
    "for val in template2_query:\n",
    "    result, count = asso_rule_template2(val[0], val[1])\n",
    "    print(\"The total number of rules generated for the template 2 query \"+\"'\"+val[0]+\",\"+\" \"+str(val[1])+\"'\"+\": \"+ str(count))"
   ]
  },
  {
   "cell_type": "markdown",
   "metadata": {},
   "source": [
    "---\n",
    "The function `temp_operator(string)` splits the first input for template 3 into respective template value and the corresponding operator.\n",
    "\n",
    "#### Inputs:\n",
    "\n",
    "1. `string` - \"1or1\", \"2or2\", \"1or2\", \"1and1\", \"2and2\", \"1and2\".\n",
    "\n",
    "#### Output:\n",
    "\n",
    "1. list - [template number, template number, operator]\n",
    "---"
   ]
  },
  {
   "cell_type": "code",
   "execution_count": 15,
   "metadata": {},
   "outputs": [],
   "source": [
    "def temp_operator(string):\n",
    "    if len(string) == 4:\n",
    "        string = string.split(\"or\")\n",
    "        string.append(\"or\")\n",
    "    elif len(string) == 5:\n",
    "        string = string.split(\"and\")\n",
    "        string.append(\"and\")\n",
    "    return string"
   ]
  },
  {
   "cell_type": "markdown",
   "metadata": {},
   "source": [
    "---\n",
    "The function `asso_rule_template2(a, b)` generates the results for template 3 for the given query.\n",
    "\n",
    "#### Inputs:\n",
    "\n",
    "1. `a` - \"1or1\", \"2or2\", \"1or2\", \"1and1\", \"2and2\", \"1and2\".\n",
    "2. `b` - \"RULE\" | \"HEAD\" | \"BODY\" \n",
    "3. `c` - \"ANY\" | \"NONE\" | 1 (or) integer\n",
    "4. `d` - [\"Gene\", ...] (or) \"RULE\" | \"HEAD\" | \"BODY\" \n",
    "5. `e` - \"RULE\" | \"HEAD\" | \"BODY\" (or) \"ANY\" | \"NONE\" | 1\n",
    "6. `f` - \"ANY\" | \"NONE\" | 1 (or) [\"Gene\", ...] (or) None\n",
    "7. `g` - [\"Gene\", ...] (or) None\n",
    "\n",
    "#### Output:\n",
    "\n",
    "1. final - A set of rules for the given query.\n",
    "2. count - Total number of rules generated for the given query.\n",
    "---"
   ]
  },
  {
   "cell_type": "code",
   "execution_count": 16,
   "metadata": {},
   "outputs": [],
   "source": [
    "def asso_rule_template3(a,b,c,d,e,f=None,g=None):\n",
    "    a = temp_operator(a)\n",
    "    if a[0] == '1' and a[1] == '1':\n",
    "        result1, count1 = asso_rule_template1(b, c, d)\n",
    "        result2, count2 = asso_rule_template1(e, f, g)\n",
    "    elif a[0] == '2' and a[1] == '2':\n",
    "        result1, count1 = asso_rule_template2(b, c)\n",
    "        result2, count2 = asso_rule_template2(d, e)\n",
    "    elif a[0] == '1' and a[1] == '2':\n",
    "        result1, count1 = asso_rule_template1(b, c, d)\n",
    "        result2, count2 = asso_rule_template2(e, f)\n",
    "    elif a[0] == '2' and a[1] == '1':\n",
    "        result1, count1 = asso_rule_template2(b, c)\n",
    "        result2, count2 = asso_rule_template1(d, e, f)\n",
    "    \n",
    "    if a[2] == \"and\":\n",
    "        final = set(result1) & set(result2)\n",
    "        final = set(final)\n",
    "        count = len(final)\n",
    "        return final, count\n",
    "    if a[2] == \"or\":\n",
    "        final = result1 + result2\n",
    "        final = set(final)\n",
    "        count = len(final)\n",
    "        return final, count"
   ]
  },
  {
   "cell_type": "code",
   "execution_count": 17,
   "metadata": {},
   "outputs": [
    {
     "name": "stdout",
     "output_type": "stream",
     "text": [
      "The total number of rules generated for the template 3 query ['1or1', 'HEAD', 'ANY', ['G10_Down'], 'BODY', 1, ['G59_UP']]: 2\n",
      "\n",
      "The total number of rules generated for the template 3 query ['1and1', 'HEAD', 'ANY', ['G10_Down'], 'BODY', 1, ['G59_UP']]: 0\n",
      "\n",
      "The total number of rules generated for the template 3 query ['1or2', 'HEAD', 'ANY', ['G10_Down'], 'BODY', 2]: 0\n",
      "\n",
      "The total number of rules generated for the template 3 query ['1and2', 'HEAD', 'ANY', ['G10_Down'], 'BODY', 2]: 0\n",
      "\n",
      "The total number of rules generated for the template 3 query ['2or2', 'HEAD', 1, 'BODY', 2]: 4\n",
      "\n",
      "The total number of rules generated for the template 3 query ['2and2', 'HEAD', 1, 'BODY', 2]: 0\n",
      "\n"
     ]
    }
   ],
   "source": [
    "template3_query = [[\"1or1\", \"HEAD\", \"ANY\", ['G10_Down'], \"BODY\", 1, ['G59_UP']], [\"1and1\", \"HEAD\", \"ANY\", ['G10_Down'], \"BODY\", 1, ['G59_UP']], [\"1or2\", \"HEAD\", \"ANY\", ['G10_Down'], \"BODY\", 2], [\"1and2\", \"HEAD\", \"ANY\", ['G10_Down'], \"BODY\", 2], [\"2or2\", \"HEAD\", 1, \"BODY\", 2], [\"2and2\", \"HEAD\", 1, \"BODY\", 2]]\n",
    "for val in template3_query:\n",
    "    if len(val) == 7:\n",
    "        result, count = asso_rule_template3(val[0], val[1], val[2], val[3], val[4], val[5], val[6])\n",
    "        print(\"The total number of rules generated for the template 3 query \"+str(val)+\": \"+ str(count)+\"\\n\")\n",
    "    elif len(val) == 6:\n",
    "        result, count = asso_rule_template3(val[0], val[1], val[2], val[3], val[4], val[5])\n",
    "        print(\"The total number of rules generated for the template 3 query \"+str(val)+\": \"+ str(count)+\"\\n\")\n",
    "    elif len(val) == 5:\n",
    "        result, count = asso_rule_template3(val[0], val[1], val[2], val[3], val[4])\n",
    "        print(\"The total number of rules generated for the template 3 query \"+str(val)+\": \"+ str(count)+\"\\n\")\n",
    "\n"
   ]
  },
  {
   "cell_type": "markdown",
   "metadata": {},
   "source": [
    "### Demo"
   ]
  },
  {
   "cell_type": "code",
   "execution_count": 27,
   "metadata": {},
   "outputs": [
    {
     "data": {
      "text/plain": [
       "({'G72_UP -> G59_UP,G82_DOWN',\n",
       "  'G82_DOWN -> G72_UP,G59_UP',\n",
       "  'G96_DOWN -> G72_UP,G59_UP'},\n",
       " 3)"
      ]
     },
     "execution_count": 27,
     "metadata": {},
     "output_type": "execute_result"
    }
   ],
   "source": [
    "support = 50\n",
    "confidence = 70\n",
    "rules = association_rules(\"association-rule-test-data.txt\", support, confidence)\n",
    "asso_rule_template3(\"2and2\", \"HEAD\", 1, \"BODY\", 2)"
   ]
  },
  {
   "cell_type": "code",
   "execution_count": null,
   "metadata": {},
   "outputs": [],
   "source": []
  }
 ],
 "metadata": {
  "kernelspec": {
   "display_name": "Python 3",
   "language": "python",
   "name": "python3"
  },
  "language_info": {
   "codemirror_mode": {
    "name": "ipython",
    "version": 3
   },
   "file_extension": ".py",
   "mimetype": "text/x-python",
   "name": "python",
   "nbconvert_exporter": "python",
   "pygments_lexer": "ipython3",
   "version": "3.8.5"
  }
 },
 "nbformat": 4,
 "nbformat_minor": 4
}
